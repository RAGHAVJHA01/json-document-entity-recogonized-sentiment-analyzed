{
  "nbformat": 4,
  "nbformat_minor": 0,
  "metadata": {
    "colab": {
      "name": "NLP_Assignment.ipynb",
      "provenance": [],
      "collapsed_sections": []
    },
    "kernelspec": {
      "display_name": "Python 3",
      "name": "python3"
    },
    "language_info": {
      "name": "python"
    }
  },
  "cells": [
    {
      "cell_type": "markdown",
      "metadata": {
        "id": "mMnjk2HLf4G1"
      },
      "source": [
        "**Import library**"
      ]
    },
    {
      "cell_type": "code",
      "metadata": {
        "colab": {
          "base_uri": "https://localhost:8080/"
        },
        "id": "Vc8Dy0KEMkUQ",
        "outputId": "7d0e3bd1-8696-4bfd-dce8-18194a834173"
      },
      "source": [
        "import numpy as np\n",
        "import pandas as pd\n",
        "import matplotlib.pyplot as plt\n",
        "import seaborn as sns\n",
        "import nltk\n",
        "nltk.download('punkt')\n",
        "nltk.download('averaged_perceptron_tagger')\n",
        "nltk.download('maxent_ne_chunker')\n",
        "nltk.download('words')\n",
        "nltk.download('stopwords')\n",
        "stopword = stopwords.words('english')\n",
        "from nltk.corpus import stopwords\n",
        "import string\n",
        "import json\n",
        " SentimentIntensityAnalyzer\n",
        "from nltk.sentiment.util import *\n",
        "from textblob import TextBlob"
      ],
      "execution_count": null,
      "outputs": [
        {
          "output_type": "stream",
          "name": "stdout",
          "text": [
            "[nltk_data] Downloading package punkt to /root/nltk_data...\n",
            "[nltk_data]   Package punkt is already up-to-date!\n",
            "[nltk_data] Downloading package averaged_perceptron_tagger to\n",
            "[nltk_data]     /root/nltk_data...\n",
            "[nltk_data]   Package averaged_perceptron_tagger is already up-to-\n",
            "[nltk_data]       date!\n",
            "[nltk_data] Downloading package maxent_ne_chunker to\n",
            "[nltk_data]     /root/nltk_data...\n",
            "[nltk_data]   Package maxent_ne_chunker is already up-to-date!\n",
            "[nltk_data] Downloading package words to /root/nltk_data...\n",
            "[nltk_data]   Package words is already up-to-date!\n",
            "[nltk_data] Downloading package stopwords to /root/nltk_data...\n",
            "[nltk_data]   Package stopwords is already up-to-date!\n"
          ]
        }
      ]
    },
    {
      "cell_type": "markdown",
      "metadata": {
        "id": "OcVT2yi-grbR"
      },
      "source": [
        "**Import and Read the data**"
      ]
    },
    {
      "cell_type": "code",
      "metadata": {
        "id": "I1N2QXnHWCHg"
      },
      "source": [
        "with open('/content/tweets.json') as jfile:\n",
        "  json_file = json.load(jfile)"
      ],
      "execution_count": null,
      "outputs": []
    },
    {
      "cell_type": "markdown",
      "metadata": {
        "id": "NN4Xle7wgvzE"
      },
      "source": [
        "**Convert into Data Frame that easy to readable**"
      ]
    },
    {
      "cell_type": "code",
      "metadata": {
        "id": "CKdthgpSbrzH"
      },
      "source": [
        "df=pd.DataFrame(json_file).T"
      ],
      "execution_count": null,
      "outputs": []
    },
    {
      "cell_type": "code",
      "metadata": {
        "colab": {
          "base_uri": "https://localhost:8080/",
          "height": 357
        },
        "id": "gO00i3-tbv5I",
        "outputId": "16e18ef3-c1f7-48af-a4ad-9f0302b4cb1d"
      },
      "source": [
        "df.head(10)"
      ],
      "execution_count": null,
      "outputs": [
        {
          "output_type": "execute_result",
          "data": {
            "text/html": [
              "<div>\n",
              "<style scoped>\n",
              "    .dataframe tbody tr th:only-of-type {\n",
              "        vertical-align: middle;\n",
              "    }\n",
              "\n",
              "    .dataframe tbody tr th {\n",
              "        vertical-align: top;\n",
              "    }\n",
              "\n",
              "    .dataframe thead th {\n",
              "        text-align: right;\n",
              "    }\n",
              "</style>\n",
              "<table border=\"1\" class=\"dataframe\">\n",
              "  <thead>\n",
              "    <tr style=\"text-align: right;\">\n",
              "      <th></th>\n",
              "      <th>tweet_author</th>\n",
              "      <th>tweet_text</th>\n",
              "    </tr>\n",
              "  </thead>\n",
              "  <tbody>\n",
              "    <tr>\n",
              "      <th>1374140386071961602</th>\n",
              "      <td>Hematopoiesis News</td>\n",
              "      <td>⚕️ Scientists conducted a Phase II study of ac...</td>\n",
              "    </tr>\n",
              "    <tr>\n",
              "      <th>1374032432173842437</th>\n",
              "      <td>Michael Wang, MD</td>\n",
              "      <td>This phase 2 Acalabrutinib-Venetoclax (AV) tri...</td>\n",
              "    </tr>\n",
              "    <tr>\n",
              "      <th>1373902876553048065</th>\n",
              "      <td>1stOncology</td>\n",
              "      <td>#NICE backs #AstraZenecas #Calquence for #CLL ...</td>\n",
              "    </tr>\n",
              "    <tr>\n",
              "      <th>1373656782367813635</th>\n",
              "      <td>Toby Eyre</td>\n",
              "      <td>#acalabrutinib is a valuable option in pts int...</td>\n",
              "    </tr>\n",
              "    <tr>\n",
              "      <th>1372941634334232586</th>\n",
              "      <td>Lymphoma Hub</td>\n",
              "      <td>NICE has recommended the use of acalabrutinib ...</td>\n",
              "    </tr>\n",
              "    <tr>\n",
              "      <th>1372927482278539265</th>\n",
              "      <td>David Ledger</td>\n",
              "      <td>NICE backs AstraZeneca’s Calquence for CLL htt...</td>\n",
              "    </tr>\n",
              "    <tr>\n",
              "      <th>1372911723305394179</th>\n",
              "      <td>N Wales Cancer Forum</td>\n",
              "      <td>This is England for now - these decisions usua...</td>\n",
              "    </tr>\n",
              "    <tr>\n",
              "      <th>1372888121159868423</th>\n",
              "      <td>European Pharmaceutical Review</td>\n",
              "      <td>AstraZeneca’s Calquence (acalabrutinib), a che...</td>\n",
              "    </tr>\n",
              "    <tr>\n",
              "      <th>1372866915081797632</th>\n",
              "      <td>Graham Collins</td>\n",
              "      <td>Superstar @tobyeyre82 responding to the excell...</td>\n",
              "    </tr>\n",
              "    <tr>\n",
              "      <th>1372825553837944834</th>\n",
              "      <td>CLL Ireland</td>\n",
              "      <td>CLL patients all know the drug Ibrutinib and y...</td>\n",
              "    </tr>\n",
              "  </tbody>\n",
              "</table>\n",
              "</div>"
            ],
            "text/plain": [
              "                                       tweet_author                                         tweet_text\n",
              "1374140386071961602              Hematopoiesis News  ⚕️ Scientists conducted a Phase II study of ac...\n",
              "1374032432173842437                Michael Wang, MD  This phase 2 Acalabrutinib-Venetoclax (AV) tri...\n",
              "1373902876553048065                     1stOncology  #NICE backs #AstraZenecas #Calquence for #CLL ...\n",
              "1373656782367813635                       Toby Eyre  #acalabrutinib is a valuable option in pts int...\n",
              "1372941634334232586                    Lymphoma Hub  NICE has recommended the use of acalabrutinib ...\n",
              "1372927482278539265                    David Ledger  NICE backs AstraZeneca’s Calquence for CLL htt...\n",
              "1372911723305394179            N Wales Cancer Forum  This is England for now - these decisions usua...\n",
              "1372888121159868423  European Pharmaceutical Review  AstraZeneca’s Calquence (acalabrutinib), a che...\n",
              "1372866915081797632                  Graham Collins  Superstar @tobyeyre82 responding to the excell...\n",
              "1372825553837944834                     CLL Ireland  CLL patients all know the drug Ibrutinib and y..."
            ]
          },
          "metadata": {},
          "execution_count": 262
        }
      ]
    },
    {
      "cell_type": "markdown",
      "metadata": {
        "id": "5OYKCsgWg41W"
      },
      "source": [
        "**check null values**\n",
        "\n",
        "**Total no of unique writer**"
      ]
    },
    {
      "cell_type": "code",
      "metadata": {
        "colab": {
          "base_uri": "https://localhost:8080/"
        },
        "id": "UlSqIIhgNDUI",
        "outputId": "07e1a30d-9066-4d8f-8de2-3c05fd62c579"
      },
      "source": [
        "print('total no of null valus in the data:\\n',df.isnull().sum())\n",
        "print('total no tweet author:',df.tweet_author.nunique())"
      ],
      "execution_count": null,
      "outputs": [
        {
          "output_type": "stream",
          "name": "stdout",
          "text": [
            "total no of null valus in the data:\n",
            " tweet_author    0\n",
            "tweet_text      0\n",
            "dtype: int64\n",
            "total no tweet author: 9292\n"
          ]
        }
      ]
    },
    {
      "cell_type": "markdown",
      "metadata": {
        "id": "Ft4Cf7qFhI0H"
      },
      "source": [
        "**Clean the data and convert them into Machine Readable Code**"
      ]
    },
    {
      "cell_type": "code",
      "metadata": {
        "id": "_8bF_BjiRX-u"
      },
      "source": [
        "def clean_data(data):\n",
        "  data = data.lower()\n",
        "  data = re.sub(r'[^(a-zA-Z)\\s]','', data)\n",
        "     #     remove urls\n",
        "  data = re.sub(r'http\\S+', \" \", data)\n",
        " #     remove mentions\n",
        "  data = re.sub(r'@\\w+',' ',data)\n",
        " #     remove hastags\n",
        "  data = re.sub(r'#\\w+', ' ',data)\n",
        "#     remove digits\n",
        "  data = re.sub(r'\\d+()', ' ', data)\n",
        "#     remove html tags and umber\n",
        "  data = re.sub('r<.*?>',' ', data)\n",
        " #     remove stop words \n",
        "  data = data.split()\n",
        "  data = \" \".join([word for word in data if not word in stopword])\n",
        "  return data\n",
        "df['tweet_text']=df['tweet_text'].apply(lambda x:clean_data(x))\n",
        "def remove_punct(text):\n",
        "    text  = \"\".join([char for char in text if char not in string.punctuation])\n",
        "    text = re.sub('[0-9]+', '', text)\n",
        "    return text\n",
        "\n",
        "df['tweet_text']= df['tweet_text'].apply(lambda x: remove_punct(x))\n",
        "#Tokenization of the text data\n",
        "def tokenization(text):\n",
        "    text = re.split('\\W+', text)\n",
        "    return text\n",
        "df['tweet_text'] = df['tweet_text'].apply(lambda x: tokenization(x.lower()))"
      ],
      "execution_count": null,
      "outputs": []
    },
    {
      "cell_type": "markdown",
      "metadata": {
        "id": "NMHqh9YF7761"
      },
      "source": [
        "\n",
        "\n",
        "**Get the most frequent entities from the tweets. and we convert them into csv**"
      ]
    },
    {
      "cell_type": "code",
      "metadata": {
        "id": "0hYU7qsc8KsX"
      },
      "source": [
        "df1=df['tweet_text']"
      ],
      "execution_count": null,
      "outputs": []
    },
    {
      "cell_type": "markdown",
      "metadata": {
        "id": "RZpgnEFmhdFv"
      },
      "source": [
        "**Steaming anf Lemitization of the code**"
      ]
    },
    {
      "cell_type": "code",
      "metadata": {
        "id": "WNYcptKl-SpK"
      },
      "source": [
        "ps = nltk.PorterStemmer()\n",
        "def stemming(text):\n",
        "    text = [ps.stem(word) for word in text]\n",
        "    return text\n",
        "df1 = df1.apply(lambda x: stemming(x))"
      ],
      "execution_count": null,
      "outputs": []
    },
    {
      "cell_type": "code",
      "metadata": {
        "id": "q18TzaGy-SZh"
      },
      "source": [
        "wn = nltk.WordNetLemmatizer()\n",
        "def lemmatizer(text):\n",
        "    text = [wn.lemmatize(word) for word in text]\n",
        "    return text\n",
        "df1= df1.apply(lambda x: lemmatizer(x))"
      ],
      "execution_count": null,
      "outputs": []
    },
    {
      "cell_type": "markdown",
      "metadata": {
        "id": "EpS94QhCFQ5Z"
      },
      "source": [
        "**Stanford NLP NER**"
      ]
    },
    {
      "cell_type": "code",
      "metadata": {
        "id": "fvxGDcciTH6f"
      },
      "source": [
        "from nltk.tag.stanford import StanfordNERTagger\n",
        "!wget 'https://nlp.stanford.edu/software/stanford-ner-2018-10-16.zip'\n",
        "!unzip stanford-ner-2018-10-16.zip\n",
        "\n",
        "nltk.download('punkt')\n",
        "\n",
        "st = StanfordNERTagger('/content/stanford-ner-2018-10-16/classifiers/english.all.3class.distsim.crf.ser.gz',\n",
        "                       '/content/stanford-ner-2018-10-16/stanford-ner.jar',\n",
        "                       encoding='utf-8')"
      ],
      "execution_count": null,
      "outputs": []
    },
    {
      "cell_type": "code",
      "metadata": {
        "id": "dvXyHQZvz4RH"
      },
      "source": [
        "val = [item if isinstance(df1, str) else \" \".join(item) for item in df1 ]\n",
        "seen = set()\n",
        "val = [x for x in val if x not in seen and not seen.add(x)]"
      ],
      "execution_count": null,
      "outputs": []
    },
    {
      "cell_type": "code",
      "metadata": {
        "id": "O7GCD8Oaynvm"
      },
      "source": [
        "classified_text = st.tag(val)"
      ],
      "execution_count": null,
      "outputs": []
    },
    {
      "cell_type": "code",
      "metadata": {
        "colab": {
          "base_uri": "https://localhost:8080/",
          "height": 357
        },
        "id": "j5GcidKrxF-f",
        "outputId": "810ca926-124c-42c4-df9b-22a406b657d6"
      },
      "source": [
        "entity= pd.DataFrame(classified_text,columns=['Entity Name','Entity Type'])\n",
        "\n",
        "#Here We Remove Entities_type column from data we does not requierd this but the help to recgonized the type of entity\n",
        "\n",
        "all_entities = (entity_frame.groupby(by=['Entity Name'])\n",
        "                          .size()\n",
        "                          .sort_values(ascending=False)\n",
        "                          .reset_index().rename(columns={0 : 'Frequency'}))\n",
        "all_entities.head(10)"
      ],
      "execution_count": null,
      "outputs": [
        {
          "output_type": "execute_result",
          "data": {
            "text/html": [
              "<div>\n",
              "<style scoped>\n",
              "    .dataframe tbody tr th:only-of-type {\n",
              "        vertical-align: middle;\n",
              "    }\n",
              "\n",
              "    .dataframe tbody tr th {\n",
              "        vertical-align: top;\n",
              "    }\n",
              "\n",
              "    .dataframe thead th {\n",
              "        text-align: right;\n",
              "    }\n",
              "</style>\n",
              "<table border=\"1\" class=\"dataframe\">\n",
              "  <thead>\n",
              "    <tr style=\"text-align: right;\">\n",
              "      <th></th>\n",
              "      <th>Entity Name</th>\n",
              "      <th>Frequency</th>\n",
              "    </tr>\n",
              "  </thead>\n",
              "  <tbody>\n",
              "    <tr>\n",
              "      <th>0</th>\n",
              "      <td>acalabrutinib</td>\n",
              "      <td>1306</td>\n",
              "    </tr>\n",
              "    <tr>\n",
              "      <th>1</th>\n",
              "      <td>calquenc</td>\n",
              "      <td>893</td>\n",
              "    </tr>\n",
              "    <tr>\n",
              "      <th>2</th>\n",
              "      <td>patient</td>\n",
              "      <td>790</td>\n",
              "    </tr>\n",
              "    <tr>\n",
              "      <th>3</th>\n",
              "      <td>covid</td>\n",
              "      <td>694</td>\n",
              "    </tr>\n",
              "    <tr>\n",
              "      <th>4</th>\n",
              "      <td>astrazeneca</td>\n",
              "      <td>599</td>\n",
              "    </tr>\n",
              "    <tr>\n",
              "      <th>5</th>\n",
              "      <td>cll</td>\n",
              "      <td>562</td>\n",
              "    </tr>\n",
              "    <tr>\n",
              "      <th>6</th>\n",
              "      <td>trial</td>\n",
              "      <td>425</td>\n",
              "    </tr>\n",
              "    <tr>\n",
              "      <th>7</th>\n",
              "      <td>lymphocyt</td>\n",
              "      <td>388</td>\n",
              "    </tr>\n",
              "    <tr>\n",
              "      <th>8</th>\n",
              "      <td>chronic</td>\n",
              "      <td>351</td>\n",
              "    </tr>\n",
              "    <tr>\n",
              "      <th>9</th>\n",
              "      <td>leukemia</td>\n",
              "      <td>342</td>\n",
              "    </tr>\n",
              "  </tbody>\n",
              "</table>\n",
              "</div>"
            ],
            "text/plain": [
              "     Entity Name  Frequency\n",
              "0  acalabrutinib       1306\n",
              "1       calquenc        893\n",
              "2        patient        790\n",
              "3          covid        694\n",
              "4    astrazeneca        599\n",
              "5            cll        562\n",
              "6          trial        425\n",
              "7      lymphocyt        388\n",
              "8        chronic        351\n",
              "9       leukemia        342"
            ]
          },
          "metadata": {},
          "execution_count": 232
        }
      ]
    },
    {
      "cell_type": "code",
      "metadata": {
        "id": "zyXBXnhXDzgR"
      },
      "source": [
        "all_entities.to_csv('entity_csv')"
      ],
      "execution_count": null,
      "outputs": []
    },
    {
      "cell_type": "markdown",
      "metadata": {
        "id": "vF2pCS9fOG_u"
      },
      "source": [
        "**Find out the sentiment/polarity of each author towards each of the entities**"
      ]
    },
    {
      "cell_type": "code",
      "metadata": {
        "id": "0Jp7kbMOa71l"
      },
      "source": [
        "df['tweet_text'] = df['tweet_text'].astype('str')\n",
        "def get_polarity(text):\n",
        "  return TextBlob(text).sentiment.polarity\n",
        "df['Polarity'] = df['tweet_text'].apply(get_polarity)"
      ],
      "execution_count": null,
      "outputs": []
    },
    {
      "cell_type": "code",
      "metadata": {
        "id": "yT88Ph7IbiKD"
      },
      "source": [
        "df.to_csv('sentiment_polarity')"
      ],
      "execution_count": null,
      "outputs": []
    },
    {
      "cell_type": "code",
      "metadata": {
        "colab": {
          "base_uri": "https://localhost:8080/",
          "height": 357
        },
        "id": "52Z_HOhUcBjK",
        "outputId": "a2aa3cff-d1b8-4755-ce92-afc4ca35de25"
      },
      "source": [
        "df.head(10)"
      ],
      "execution_count": null,
      "outputs": [
        {
          "output_type": "execute_result",
          "data": {
            "text/html": [
              "<div>\n",
              "<style scoped>\n",
              "    .dataframe tbody tr th:only-of-type {\n",
              "        vertical-align: middle;\n",
              "    }\n",
              "\n",
              "    .dataframe tbody tr th {\n",
              "        vertical-align: top;\n",
              "    }\n",
              "\n",
              "    .dataframe thead th {\n",
              "        text-align: right;\n",
              "    }\n",
              "</style>\n",
              "<table border=\"1\" class=\"dataframe\">\n",
              "  <thead>\n",
              "    <tr style=\"text-align: right;\">\n",
              "      <th></th>\n",
              "      <th>tweet_author</th>\n",
              "      <th>tweet_text</th>\n",
              "      <th>Polarity</th>\n",
              "    </tr>\n",
              "  </thead>\n",
              "  <tbody>\n",
              "    <tr>\n",
              "      <th>1374140386071961602</th>\n",
              "      <td>Hematopoiesis News</td>\n",
              "      <td>['scientists', 'conducted', 'phase', 'ii', 'st...</td>\n",
              "      <td>0.000000</td>\n",
              "    </tr>\n",
              "    <tr>\n",
              "      <th>1374032432173842437</th>\n",
              "      <td>Michael Wang, MD</td>\n",
              "      <td>['phase', 'acalabrutinibvenetoclax', 'av', 'tr...</td>\n",
              "      <td>0.000000</td>\n",
              "    </tr>\n",
              "    <tr>\n",
              "      <th>1373902876553048065</th>\n",
              "      <td>1stOncology</td>\n",
              "      <td>['nice', 'backs', 'astrazenecas', 'calquence',...</td>\n",
              "      <td>0.600000</td>\n",
              "    </tr>\n",
              "    <tr>\n",
              "      <th>1373656782367813635</th>\n",
              "      <td>Toby Eyre</td>\n",
              "      <td>['acalabrutinib', 'valuable', 'option', 'pts',...</td>\n",
              "      <td>0.100000</td>\n",
              "    </tr>\n",
              "    <tr>\n",
              "      <th>1372941634334232586</th>\n",
              "      <td>Lymphoma Hub</td>\n",
              "      <td>['nice', 'recommended', 'use', 'acalabrutinib'...</td>\n",
              "      <td>0.600000</td>\n",
              "    </tr>\n",
              "    <tr>\n",
              "      <th>1372927482278539265</th>\n",
              "      <td>David Ledger</td>\n",
              "      <td>['nice', 'backs', 'astrazenecas', 'calquence',...</td>\n",
              "      <td>0.600000</td>\n",
              "    </tr>\n",
              "    <tr>\n",
              "      <th>1372911723305394179</th>\n",
              "      <td>N Wales Cancer Forum</td>\n",
              "      <td>['england', 'decisions', 'usually', 'come', 'w...</td>\n",
              "      <td>-0.250000</td>\n",
              "    </tr>\n",
              "    <tr>\n",
              "      <th>1372888121159868423</th>\n",
              "      <td>European Pharmaceutical Review</td>\n",
              "      <td>['astrazenecas', 'calquence', 'acalabrutinib',...</td>\n",
              "      <td>0.000000</td>\n",
              "    </tr>\n",
              "    <tr>\n",
              "      <th>1372866915081797632</th>\n",
              "      <td>Graham Collins</td>\n",
              "      <td>['superstar', 'tobyeyre', 'responding', 'excel...</td>\n",
              "      <td>0.800000</td>\n",
              "    </tr>\n",
              "    <tr>\n",
              "      <th>1372825553837944834</th>\n",
              "      <td>CLL Ireland</td>\n",
              "      <td>['cll', 'patients', 'know', 'drug', 'ibrutinib...</td>\n",
              "      <td>0.045455</td>\n",
              "    </tr>\n",
              "  </tbody>\n",
              "</table>\n",
              "</div>"
            ],
            "text/plain": [
              "                                       tweet_author  ...  Polarity\n",
              "1374140386071961602              Hematopoiesis News  ...  0.000000\n",
              "1374032432173842437                Michael Wang, MD  ...  0.000000\n",
              "1373902876553048065                     1stOncology  ...  0.600000\n",
              "1373656782367813635                       Toby Eyre  ...  0.100000\n",
              "1372941634334232586                    Lymphoma Hub  ...  0.600000\n",
              "1372927482278539265                    David Ledger  ...  0.600000\n",
              "1372911723305394179            N Wales Cancer Forum  ... -0.250000\n",
              "1372888121159868423  European Pharmaceutical Review  ...  0.000000\n",
              "1372866915081797632                  Graham Collins  ...  0.800000\n",
              "1372825553837944834                     CLL Ireland  ...  0.045455\n",
              "\n",
              "[10 rows x 3 columns]"
            ]
          },
          "metadata": {},
          "execution_count": 275
        }
      ]
    },
    {
      "cell_type": "markdown",
      "metadata": {
        "id": "ynVRWh5_gOeS"
      },
      "source": [
        "**Thank you**"
      ]
    }
  ]
}